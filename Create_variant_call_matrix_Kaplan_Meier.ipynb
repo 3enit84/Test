{
 "cells": [
  {
   "cell_type": "markdown",
   "metadata": {},
   "source": [
    "### Create list of all available somatic mutations"
   ]
  },
  {
   "cell_type": "code",
   "execution_count": 3,
   "metadata": {
    "collapsed": true
   },
   "outputs": [
    {
     "name": "stdout",
     "output_type": "stream",
     "text": [
      "1591\n"
     ]
    }
   ],
   "source": [
    "import os, glob\n",
    "\n",
    "FileLst = FileNameLst = []\n",
    "for filename in glob.glob(\"VCF/*.vcf\"):\n",
    "        FileLst = FileLst + [open(filename, \"r\")]#open all vcf files \n",
    "som_lst = [] #list of somatic mutetions\n",
    "for file in FileLst:\n",
    "    line = file.readline()\n",
    "    while line != \"\":\n",
    "        if '#' in line:#skip header rows\n",
    "            line = file.readline()\n",
    "            continue\n",
    "        else:          \n",
    "            rec = str.split(line,'\\t')\n",
    "            if rec[0]+'_'+rec[1] not in som_lst:\n",
    "                som_lst += [rec[0]+'_'+rec[1]]                \n",
    "        line = file.readline()\n",
    "        line = line.strip('\\n')#some vcf files had lines with '\\n' only at the end\n",
    "    file.close()\n",
    "som_lst.sort()\n",
    "newfile = open('vcf_matrix.tsv','w')\n",
    "newfile.write('Position\\n')#the title line\n",
    "for som in som_lst:\n",
    "    newfile.write(som + '\\n')\n",
    "print(len(som_lst))"
   ]
  },
  {
   "cell_type": "markdown",
   "metadata": {},
   "source": [
    "### Use list of all available somatic mutations to build matrix (1 -> som mut present, 0 -> no som mut)"
   ]
  },
  {
   "cell_type": "code",
   "execution_count": 8,
   "metadata": {},
   "outputs": [],
   "source": [
    "import os, glob\n",
    "from shutil import copyfile\n",
    "copyfile('vcf_matrix.tsv', 'vcf_matrix_processed.tsv')\n",
    "\n",
    "FileLst = FileNameLst = []\n",
    "for filename in glob.glob(\"VCF/*.vcf\"):\n",
    "        FileLst = FileLst + [open(filename, \"r\")]#open all vcf files\n",
    "\n",
    "for file in FileLst:\n",
    "    pat_id = str.split(str(file),' ')[1][10:-7]#patient ID extracted from the file name\n",
    "    #print(pat_id)\n",
    "    pat_som_lst = [] #list of somatic mutetions for one patient\n",
    "    line = file.readline()\n",
    "    while line != \"\":\n",
    "        if '#' in line:#skip header rows\n",
    "            line = file.readline()\n",
    "            continue\n",
    "        else:\n",
    "            rec = str.split(line,'\\t')\n",
    "            pat_som_lst += [rec[0]+'_'+rec[1]]\n",
    "            line = file.readline()\n",
    "            line = line.strip('\\n')#some vcf files had lines with '\\n' only at the end\n",
    "    newfile = open('vcf_matrix_processed.tsv','r')\n",
    "    tempfile = open('temp.tsv','w')\n",
    "    newline = newfile.readline()#read the title line\n",
    "    newline = newline.rstrip('\\n')+'\\t'+pat_id+'\\n'\n",
    "    tempfile.write(newline)\n",
    "    newline = newfile.readline()\n",
    "    while newline != \"\":           \n",
    "        newrec = str.split(newline,'\\t')\n",
    "        if str.strip(newrec[0],'\\n') in pat_som_lst:#the given mutation is in a given patient\n",
    "            newline = newline.rstrip('\\n')+'\\t1\\n'\n",
    "        else: newline = newline.rstrip('\\n')+'\\t0\\n'\n",
    "        tempfile.write(newline)\n",
    "        newline = newfile.readline()\n",
    "    newfile.close()\n",
    "    tempfile.close()\n",
    "    copyfile('temp.tsv', 'vcf_matrix_processed.tsv')               "
   ]
  },
  {
   "cell_type": "markdown",
   "metadata": {},
   "source": [
    "### Quality control"
   ]
  },
  {
   "cell_type": "code",
   "execution_count": 72,
   "metadata": {
    "collapsed": true
   },
   "outputs": [
    {
     "name": "stdout",
     "output_type": "stream",
     "text": [
      "     14     140    1677\r\n"
     ]
    }
   ],
   "source": [
    "!grep 99456253 VCF/*|wc"
   ]
  },
  {
   "cell_type": "markdown",
   "metadata": {},
   "source": [
    "### Run Kaplan-Meier analysis"
   ]
  },
  {
   "cell_type": "code",
   "execution_count": 77,
   "metadata": {
    "collapsed": true
   },
   "outputs": [
    {
     "name": "stdout",
     "output_type": "stream",
     "text": [
      "13_28674628 11 4631 4423 4611 4869\n",
      "15_99456253 14 4616 4423 4611 4869\n",
      "17_41277187 11 4838 4423 5356 4867\n",
      "20_54963739 11 5081 4423 5544 4866\n",
      "21_36368659 11 4677 4423 4890 4869\n",
      "21_42879909 11 4693 4423 4890 4869\n",
      "4_55956836 11 4857 4423 5077 4869\n",
      "5_112064475 11 5131 4423 5829 4867\n",
      "7_140426257 13 4623 4423 4611 4869\n",
      "9_139397707 11 4654 4423 4611 4869\n",
      "9_87600969 14 5050 4422 5642 4867\n",
      "9_87616257 14 4764 4423 4890 4869\n",
      "9_87617071 15 4617 4423 4611 4869\n",
      "9_87619423 13 4764 4423 4890 4869\n",
      "9_87632318 14 4764 4423 4890 4869\n",
      "9_87640636 13 4764 4423 4890 4869\n"
     ]
    }
   ],
   "source": [
    "from csv import reader\n",
    "import numpy as np\n",
    "\n",
    "file_name = 'Patient.csv'#cohort B\n",
    "file = open(file_name,'r')\n",
    "clin_lst = []#create a list of clinical data (patID, value)\n",
    "file.readline()#skip title line\n",
    "for rec in reader(file):\n",
    "    if rec[6].isdigit():#skip NULL values\n",
    "        clin_lst += [rec[0],int(rec[6])]\n",
    "#print(len(clin_lst))\n",
    "file_name = 'Patients.csv'#cohort A\n",
    "file = open(file_name,'r')\n",
    "file.readline()#skip title line\n",
    "for rec in reader(file):\n",
    "    if rec[6].isdigit():#skip NULL values\n",
    "        clin_lst += [rec[0],int(rec[6])]\n",
    "    \n",
    "file_name = 'vcf_matrix_processed.tsv'\n",
    "file = open(file_name,'r')\n",
    "for rec in reader(file, delimiter='\\t'):\n",
    "    all_mut_id_lst = []#list of patients ID with somatic mutations\n",
    "    for i in range(len(rec)):\n",
    "            all_mut_id_lst += [rec[i]]\n",
    "    break#stop reading after the first line\n",
    "for rec in reader(file, delimiter='\\t'):#continue reading from the second line\n",
    "    mut_cnt = 0#count of somatic mutations\n",
    "    mut_lst = []#list of patients with mutation\n",
    "    for i in range(1, len(rec)):\n",
    "        if rec[i] == '1':\n",
    "            mut_cnt += 1\n",
    "            mut_lst += [all_mut_id_lst[i]]\n",
    "    if mut_cnt > 10:#there is more than 10 mutations per patient\n",
    "        mut_val_lst = []#list of clinical values from patients with mutation \n",
    "        nomut_val_lst = []#list of clinical values from patients without mutation\n",
    "        for pat_id in mut_lst:#loop through patients with mutation\n",
    "            if pat_id in clin_lst:\n",
    "                mut_val_lst += [clin_lst[clin_lst.index(pat_id)+1]]\n",
    "        for j in range(0, len(clin_lst),2):#read every second entry\n",
    "            if clin_lst[j] not in mut_lst:\n",
    "                    nomut_val_lst += [clin_lst[j+1]]\n",
    "        print(rec[0],mut_cnt,int(np.mean(mut_val_lst)),int(np.mean(nomut_val_lst)), \\\n",
    "                int(np.median(mut_val_lst)),int(np.median(nomut_val_lst)))"
   ]
  }
 ],
 "metadata": {
  "kernelspec": {
   "display_name": "Python 3",
   "language": "python",
   "name": "python3"
  },
  "language_info": {
   "codemirror_mode": {
    "name": "ipython",
    "version": 3
   },
   "file_extension": ".py",
   "mimetype": "text/x-python",
   "name": "python",
   "nbconvert_exporter": "python",
   "pygments_lexer": "ipython3",
   "version": "3.7.3"
  }
 },
 "nbformat": 4,
 "nbformat_minor": 2
}
