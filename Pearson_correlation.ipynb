{
   "cells": [
    {
   "cell_type": "markdown",
   "metadata": {},
   "source": [
    "#### Convert Excel file into tsv file"
   ]
  },
  {
   "cell_type": "code",
   "execution_count": 15,
   "metadata": {},
   "outputs": [
    {
     "name": "stdout",
     "output_type": "stream",
     "text": [
      "Sample_Keys_PRU.tsv is created, size = 4479b\n"
     ]
    }
   ],
   "source": [
    "file_name = 'Sample_Keys_PRU.xlsx'\n",
    "\n",
    "import os\n",
    "xfile = open(file_name, \"r\")#open xlsx file \n",
    "cfile = open(file_name[:-4]+'tsv', 'w')\n",
    "wr = csv.writer(cfile, delimiter=\"\\t\")# define a writer and delimeter\n",
    "myfile = xlrd.open_workbook(file_name)# open the xlsx file\n",
    "mysheet = myfile.sheet_by_index(0)# get a sheet\n",
    "for rownum in range(mysheet.nrows):# write the rows\n",
    "    wr.writerow(mysheet.row_values(rownum))\n",
    "statinfo = os.stat(file_name[:-4]+'tsv')\n",
    "print(file_name[:-4]+'tsv is created,', 'size =', str(statinfo.st_size)+'b')"
   ]
  },
  {
   "cell_type": "markdown",
   "metadata": {},
   "source": [
    "#### Make list of PRU and corresponding subject ID"
   ]
  },
  {
   "cell_type": "code",
   "execution_count": 117,
   "metadata": {},
   "outputs": [],
   "source": [
    "file_name = 'Sample_Keys_PRU.tsv'\n",
    "\n",
    "import string\n",
    "from csv import reader\n",
    "file = open(file_name,'r')#the file is sorted by pru value accending\n",
    "for line in reader(file, delimiter='\\t'):# skip the title line\n",
    "    break\n",
    "id_lst = []\n",
    "pru_lst = []\n",
    "for rec in reader(file, delimiter='\\t'):\n",
    "    id_lst += [rec[1]]\n",
    "    pru_lst += [float(rec[5])]\n",
    "file.close()"
   ]
  },
  {
   "cell_type": "markdown",
   "metadata": {},
   "source": [
    "#### Run Pearson correlation"
   ]
  },
  {
   "cell_type": "code",
   "execution_count": 116,
   "metadata": {
    "scrolled": true
   },
   "outputs": [
    {
     "name": "stdout",
     "output_type": "stream",
     "text": [
      "GABARAPL2 \t R = 0.4530 \t P-value = 0.0003\n",
      "CASR \t\t R = 0.4143 \t P-value = 0.0011\n",
      "CD86 \t\t R = 0.4087 \t P-value = 0.0013\n",
      "ILDR1 \t\t R = 0.4087 \t P-value = 0.0013\n",
      "FBXL18 \t\t R = 0.4060 \t P-value = 0.0014\n",
      "POLD2 \t\t R = 0.3952 \t P-value = 0.0019\n",
      "ADAT1 \t\t R = 0.3913 \t P-value = 0.0022\n",
      "DTNB \t\t R = 0.3722 \t P-value = 0.0037\n",
      "KARS \t\t R = 0.3685 \t P-value = 0.0041\n"
     ]
    }
   ],
   "source": [
    "file_name = 'CNV_by_gene.tsv'\n",
    "\n",
    "import scipy, string\n",
    "from csv import reader\n",
    "file = open(file_name,'r')\n",
    "ndx_lst = []#index list will retrieve CNV data in order of pru_lst\n",
    "for rec in reader(file, delimiter='\\t'):\n",
    "    for r in rec:\n",
    "        if r in id_lst:\n",
    "            ndx_lst += [id_lst.index(r)+5]#there are 5 descriptive entries\n",
    "    break#stop after the first line is read\n",
    "from scipy.stats import pearsonr\n",
    "Pe_lst = []\n",
    "for rec in reader(file, delimiter='\\t'):#read the second row\n",
    "    cnv_lst = []#list of cnv values per fragment/gene\n",
    "    for n in ndx_lst:\n",
    "        if ' ' not in rec[n]:#check for multiple empty spaces\n",
    "            cnv_lst += [float(rec[n])]\n",
    "        else:\n",
    "            cnv_lst += [0.0]            \n",
    "    Prsn = scipy.stats.pearsonr(pru_lst,cnv_lst)\n",
    "    Pe_lst += [[Prsn[1], Prsn[0],rec[4]]]\n",
    "Pe_lst.sort()\n",
    "for p in Pe_lst:\n",
    "    if p[0] < 0.05:\n",
    "        if len(p[2]) < 7:\n",
    "            print(p[2],'\\t\\t','R =','%.4f' % p[1],'\\t','P-value =','%.4f' % p[0])\n",
    "        elif len(p[2]) > 14:\n",
    "            print(p[2],' ','R =','%.4f' % p[1],'\\t','P-value =','%.4f' % p[0])\n",
    "        else: print(p[2],'\\t','R =','%.4f' % p[1],'\\t','P-value =','%.4f' % p[0])#align long symbols"
   ]
  }
 ],
 "metadata": {
  "kernelspec": {
   "display_name": "Python 3",
   "language": "python",
   "name": "python3"
  },
  "language_info": {
   "codemirror_mode": {
    "name": "ipython",
    "version": 3
   },
   "file_extension": ".py",
   "mimetype": "text/x-python",
   "name": "python",
   "nbconvert_exporter": "python",
   "pygments_lexer": "ipython3",
   "version": "3.6.7"
  }
 },
 "nbformat": 4,
 "nbformat_minor": 2
}
