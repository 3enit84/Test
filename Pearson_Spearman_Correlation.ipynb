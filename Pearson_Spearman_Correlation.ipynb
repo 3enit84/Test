{
 "cells": [
  {
   "cell_type": "markdown",
   "metadata": {},
   "source": [
    "#### Convert excel file with Patient_Record (clinical endpoint) into tab delimeted file"
   ]
  },
  {
   "cell_type": "code",
   "execution_count": 6,
   "metadata": {
    "scrolled": true
   },
   "outputs": [],
   "source": [
    "file_name = 'SampleID_Patient_Record.xlsx'\n",
    "\n",
    "import os, csv, xlrd\n",
    "xfile = open(file_name, \"r\")#open xlsx file \n",
    "cfile = open(file_name[:-4]+'tsv', 'w')\n",
    "wr = csv.writer(cfile, delimiter=\"\\t\")# define a writer and delimeter\n",
    "myfile = xlrd.open_workbook(file_name)# open the xlsx file\n",
    "mysheet = myfile.sheet_by_index(0)# get a sheet\n",
    "for rownum in range(mysheet.nrows):# write the rows\n",
    "    wr.writerow(mysheet.row_values(rownum))\n",
    "statinfo = os.stat(file_name[:-4]+'tsv')\n",
    "print(file_name[:-4]+'tsv is created,', 'size =', str(statinfo.st_size)+'b')"
   ]
  },
  {
   "cell_type": "markdown",
   "metadata": {},
   "source": [
    "#### Make list of values X and corresponding vaues Y"
   ]
  },
  {
   "cell_type": "code",
   "execution_count": 7,
   "metadata": {},
   "outputs": [],
   "source": [
    "file_name = 'SampleID_Patient_Record.tsv'\n",
    "\n",
    "import string\n",
    "from csv import reader\n",
    "file = open(file_name,'r')#the file is sorted by pru value accending\n",
    "for line in reader(file, delimiter='\\t'):# skip the title line\n",
    "    break\n",
    "id_lst = []\n",
    "pr_lst = []\n",
    "for rec in reader(file, delimiter='\\t'):\n",
    "    id_lst += [rec[1]]\n",
    "    pr_lst += [float(rec[5])]\n",
    "file.close()"
   ]
  },
  {
   "cell_type": "markdown",
   "metadata": {},
   "source": [
    "#### Run Pearson correlation"
   ]
  },
  {
   "cell_type": "code",
   "execution_count": null,
   "metadata": {},
   "outputs": [],
   "source": [
    "file_name = 'your_cnv_file.tsv'\n",
    "\n",
    "import scipy, string\n",
    "from csv import reader\n",
    "file = open(file_name,'r')\n",
    "ndx_lst = []\n",
    "for i in range(len(id_lst)):\n",
    "    ndx_lst += [0]#index list will retrieve Y data in the order of pr_lst\n",
    "for rec in reader(file, delimiter='\\t'):\n",
    "    for r in rec:\n",
    "        if r in id_lst:\n",
    "            pos_in_rec = rec.index(r)#position of ID in rec\n",
    "            pos_in_pr = id_lst.index(r)#position of ID in sorted list of pr values\n",
    "            ndx_lst[pos_in_pr] = pos_in_rec\n",
    "    break#stop after first line is read\n",
    "from scipy.stats import pearsonr\n",
    "Pe_lst = []\n",
    "Sp_lst = []\n",
    "newfile = open('P_values.tsv','w')\n",
    "for rec in reader(file, delimiter='\\t'):#read the second row\n",
    "    cnv_lst = []#list of cnv values\n",
    "    for n in ndx_lst:\n",
    "        if ' ' not in rec[n]:#check for multiple empty spaces\n",
    "            cnv_lst += [float(rec[n])]\n",
    "        else:\n",
    "            cnv_lst += [0.0]\n",
    "    Prsn = scipy.stats.pearsonr(pr_lst,cnv_lst)\n",
    "    Pe_lst += [[Prsn[1], Prsn[0],rec[4]]]\n",
    "    Sper = scipy.stats.spearmanr(pr_lst,cnv_lst)#Spearman correlation\n",
    "    Sp_lst += [[Sper[1], Sper[0], rec[4]]]\n",
    "    newfile.write(rec[0]+'\\t'+rec[1]+'\\t'+rec[4]+'\\t'+str(Prsn[1])+'\\n')\n",
    "Pe_lst.sort()\n",
    "for p in Pe_lst:\n",
    "    if p[0] < 0.05:\n",
    "        if len(p[2]) < 7:\n",
    "            print(p[2],'\\t\\t','R =','%.6f' % p[1],'\\t','P-value =','%.6f' % p[0])\n",
    "        elif len(p[2]) > 14:\n",
    "            print(p[2],' ','R =','%.6f' % p[1],'\\t','P-value =','%.6f' % p[0])\n",
    "        else: print(p[2],'\\t','R =','%.6f' % p[1],'\\t','P-value =','%.6f' % p[0])#align long symbols\n",
    "file.close()"
   ]
  },
  {
   "cell_type": "markdown",
   "metadata": {},
   "source": [
    "#### Filter genes with at least 23 samples with segment mean > 0.23 or < -0.23"
   ]
  },
  {
   "cell_type": "code",
   "execution_count": null,
   "metadata": {},
   "outputs": [],
   "source": [
    "file_name = 'your_cnv_file.tsv'\n",
    "\n",
    "import scipy, string\n",
    "from csv import reader\n",
    "from scipy.stats import pearsonr\n",
    "\n",
    "file = open(file_name,'r')\n",
    "cutoff = 0.23\n",
    "Pe_lst = []\n",
    "newfile = open('P_values.tsv','w')\n",
    "grphfile = open('graph.tsv','w')\n",
    "for title in reader(file, delimiter='\\t'):# skip the title line\n",
    "    break\n",
    "for rec in reader(file, delimiter='\\t'):#read the second row\n",
    "    cnv_lst = []#list of cnv values per fragment/gene\n",
    "    pr_flt_lst = []#filtered pr_lst\n",
    "    for i in range(5,len(ndx_lst)):# 4 descriptive entries\n",
    "        if ' ' not in rec[ndx_lst[i]]:#check for multiple empty spaces\n",
    "            if abs(float(rec[ndx_lst[i]])) > cutoff:\n",
    "                cnv_lst += [float(rec[ndx_lst[i]])]\n",
    "                pr_flt_lst += [pr_lst[i]]\n",
    "    if len(cnv_lst) > 23:\n",
    "        if rec[4] == 'Gene_name':#make entries for a graph\n",
    "            for i in range(len(cnv_lst)):\n",
    "                grphfile.write(str(pr_flt_lst[i]) +'\\t'+ str(cnv_lst[i]) +'\\n')\n",
    "            import matplotlib.pyplot as plt\n",
    "            import numpy as np\n",
    "            pr = np.array(pr_flt_lst)\n",
    "            cnv = np.array(cnv_lst)\n",
    "            plt.scatter(pr, cnv)\n",
    "            plt.show()\n",
    "        Prsn = scipy.stats.pearsonr(pr_flt_lst,cnv_lst)\n",
    "        Pe_lst += [[Prsn[1], Prsn[0],rec[4]]]\n",
    "        newfile.write(rec[0]+'\\t'+rec[1]+'\\t'+rec[4]+'\\t'+str(Prsn[1])+'\\n')\n",
    "Pe_lst.sort()\n",
    "print('MULTIPLE TESTS =', len(Pe_lst))\n",
    "for p in Pe_lst:\n",
    "    if p[0] < 1:\n",
    "        if len(p[2]) < 7:\n",
    "            print(p[2],'\\t\\t','R =','%.6f' % p[1],'\\t','P-value =','%.6f' % p[0])\n",
    "        elif len(p[2]) > 14:\n",
    "            print(p[2],' ','R =','%.6f' % p[1],'\\t','P-value =','%.6f' % p[0])\n",
    "        else: print(p[2],'\\t','R =','%.6f' % p[1],'\\t','P-value =','%.6f' % p[0])#align long symbols\n",
    "\n",
    "file.close()\n",
    "newfile.close()\n",
    "grphfile.close()"
   ]
  },
  {
   "cell_type": "markdown",
   "metadata": {},
   "source": [
    "#### Filter genes with at least 3 samples with segment mean > 0.3 or < -0.3 but keep all entries for Pearson analysis"
   ]
  },
  {
   "cell_type": "code",
   "execution_count": null,
   "metadata": {},
   "outputs": [],
   "source": [
    "file_name = 'your_cnv_file.tsv'\n",
    "\n",
    "import scipy, string\n",
    "from csv import reader\n",
    "from scipy.stats import pearsonr\n",
    "\n",
    "file = open(file_name,'r')\n",
    "cutoff = 0.3\n",
    "Pe_lst = []\n",
    "newfile = open('P_values.tsv','w')\n",
    "for title in reader(file, delimiter='\\t'):# skip the title line\n",
    "    break\n",
    "for rec in reader(file, delimiter='\\t'):#read the second row\n",
    "    fltr_cnt = 0# count entries that passed the filtering\n",
    "    cnv_lst = []#list of cnv values per fragment/gene\n",
    "    pr_flt_lst = []#filtered pr_lst\n",
    "    for i in range(5,len(ndx_lst)):# 4 descriptive entries\n",
    "        if ' ' not in rec[ndx_lst[i]]:#check for multiple empty spaces\n",
    "            if abs(float(rec[ndx_lst[i]])) > cutoff:\n",
    "                fltr_cnt += 1\n",
    "            cnv_lst += [float(rec[ndx_lst[i]])]\n",
    "            pr_flt_lst += [pr_lst[i]]\n",
    "    if fltr_cnt > 3:\n",
    "        Prsn = scipy.stats.pearsonr(pr_flt_lst,cnv_lst)\n",
    "        Pe_lst += [[Prsn[1], Prsn[0],rec[4]]]\n",
    "        newfile.write(rec[0]+'\\t'+rec[1]+'\\t'+rec[4]+'\\t'+str(Prsn[1])+'\\n')\n",
    "Pe_lst.sort()\n",
    "for p in Pe_lst:\n",
    "    if p[0] < 1:\n",
    "        if len(p[2]) < 7:\n",
    "            print(p[2],'\\t\\t','R =','%.6f' % p[1],'\\t','P-value =','%.6f' % p[0])\n",
    "        elif len(p[2]) > 14:\n",
    "            print(p[2],' ','R =','%.6f' % p[1],'\\t','P-value =','%.6f' % p[0])\n",
    "        else: print(p[2],'\\t','R =','%.6f' % p[1],'\\t','P-value =','%.6f' % p[0])#align long symbols\n",
    "\n",
    "file.close()\n",
    "newfile.close()"
   ]
  },
  {
   "cell_type": "markdown",
   "metadata": {},
   "source": [
    "#### Spearman correlation"
   ]
  },
  {
   "cell_type": "code",
   "execution_count": null,
   "metadata": {},
   "outputs": [],
   "source": [
    "Sp_lst.sort()\n",
    "print(Sp_lst[0:11])\n",
    "for s in Sp_lst:\n",
    "    if s[0] < 0.05:\n",
    "        if len(s[2]) < 7:\n",
    "            print(s[2],'\\t\\t','R =','%.6f' % s[1],'\\t','P-value =','%.6f' % s[0])\n",
    "        elif len(s[2]) > 14:\n",
    "            print(s[2],' ','R =','%.6f' % s[1],'\\t','P-value =','%.6f' % s[0])\n",
    "        else: print(s[2],'\\t','R =','%.6f' % s[1],'\\t','P-value =','%.6f' % s[0])#align long symbols"
   ]
  }
 ],
 "metadata": {
  "kernelspec": {
   "display_name": "Python 3",
   "language": "python",
   "name": "python3"
  },
  "language_info": {
   "codemirror_mode": {
    "name": "ipython",
    "version": 3
   },
   "file_extension": ".py",
   "mimetype": "text/x-python",
   "name": "python",
   "nbconvert_exporter": "python",
   "pygments_lexer": "ipython3",
   "version": "3.6.7"
  }
 },
 "nbformat": 4,
 "nbformat_minor": 2
}
