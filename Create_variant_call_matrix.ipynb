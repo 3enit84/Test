{
 "cells": [
  {
   "cell_type": "markdown",
   "metadata": {},
   "source": [
    "### Create list of all available somatic mutations"
   ]
  },
  {
   "cell_type": "code",
   "execution_count": 3,
   "metadata": {},
   "outputs": [
    {
     "name": "stdout",
     "output_type": "stream",
     "text": [
      "1591\n"
     ]
    }
   ],
   "source": [
    "import os, glob\n",
    "\n",
    "FileLst = FileNameLst = []\n",
    "for filename in glob.glob(\"VCF/*.vcf\"):\n",
    "        FileLst = FileLst + [open(filename, \"r\")]#open all vcf files \n",
    "som_lst = [] #list of somatic mutetions\n",
    "for file in FileLst:\n",
    "    line = file.readline()\n",
    "    while line != \"\":\n",
    "        if '#' in line:#skip header rows\n",
    "            line = file.readline()\n",
    "            continue\n",
    "        else:          \n",
    "            rec = str.split(line,'\\t')\n",
    "            if rec[0]+'_'+rec[1] not in som_lst:\n",
    "                som_lst += [rec[0]+'_'+rec[1]]                \n",
    "        line = file.readline()\n",
    "        line = line.strip('\\n')#some vcf files had lines with '\\n' only at the end\n",
    "    file.close()\n",
    "som_lst.sort()\n",
    "newfile = open('vcf_matrix.tsv','w')\n",
    "newfile.write('Position\\n')#the title line\n",
    "for som in som_lst:\n",
    "    newfile.write(som + '\\n')\n",
    "print(len(som_lst))"
   ]
  },
  {
   "cell_type": "markdown",
   "metadata": {},
   "source": [
    "### Use list of all available somatic mutations to build matrix (1 -> som mut present, 0 -> no som mut)"
   ]
  },
  {
   "cell_type": "code",
   "execution_count": 8,
   "metadata": {},
   "outputs": [],
   "source": [
    "import os, glob\n",
    "from shutil import copyfile\n",
    "copyfile('vcf_matrix.tsv', 'vcf_matrix_processed.tsv')\n",
    "\n",
    "FileLst = FileNameLst = []\n",
    "for filename in glob.glob(\"VCF/*.vcf\"):\n",
    "        FileLst = FileLst + [open(filename, \"r\")]#open all vcf files\n",
    "\n",
    "for file in FileLst:\n",
    "    pat_id = str.split(str(file),' ')[1][10:-7]#patient ID extracted from the file name\n",
    "    #print(pat_id)\n",
    "    pat_som_lst = [] #list of somatic mutetions for one patient\n",
    "    line = file.readline()\n",
    "    while line != \"\":\n",
    "        if '#' in line:#skip header rows\n",
    "            line = file.readline()\n",
    "            continue\n",
    "        else:\n",
    "            rec = str.split(line,'\\t')\n",
    "            pat_som_lst += [rec[0]+'_'+rec[1]]\n",
    "            line = file.readline()\n",
    "            line = line.strip('\\n')#some vcf files had lines with '\\n' only at the end\n",
    "    newfile = open('vcf_matrix_processed.tsv','r')\n",
    "    tempfile = open('temp.tsv','w')\n",
    "    newline = newfile.readline()#read the title line\n",
    "    newline = newline.rstrip('\\n')+'\\t'+pat_id+'\\n'\n",
    "    tempfile.write(newline)\n",
    "    newline = newfile.readline()\n",
    "    while newline != \"\":           \n",
    "        newrec = str.split(newline,'\\t')\n",
    "        if str.strip(newrec[0],'\\n') in pat_som_lst:#the given mutation is in a given patient\n",
    "            newline = newline.rstrip('\\n')+'\\t1\\n'\n",
    "        else: newline = newline.rstrip('\\n')+'\\t0\\n'\n",
    "        tempfile.write(newline)\n",
    "        newline = newfile.readline()\n",
    "    newfile.close()\n",
    "    tempfile.close()\n",
    "    copyfile('temp.tsv', 'vcf_matrix_processed.tsv')               "
   ]
  },
  {
   "cell_type": "markdown",
   "metadata": {},
   "source": [
    "### Quality control"
   ]
  },
  {
   "cell_type": "code",
   "execution_count": 2,
   "metadata": {},
   "outputs": [
    {
     "name": "stdout",
     "output_type": "stream",
     "text": [
      "     14     140    1677\r\n"
     ]
    }
   ],
   "source": [
    "!grep 99456253 VCF/*|wc"
   ]
  }
 ],
 "metadata": {
  "kernelspec": {
   "display_name": "Python 3",
   "language": "python",
   "name": "python3"
  },
  "language_info": {
   "codemirror_mode": {
    "name": "ipython",
    "version": 3
   },
   "file_extension": ".py",
   "mimetype": "text/x-python",
   "name": "python",
   "nbconvert_exporter": "python",
   "pygments_lexer": "ipython3",
   "version": "3.7.3"
  }
 },
 "nbformat": 4,
 "nbformat_minor": 2
}
