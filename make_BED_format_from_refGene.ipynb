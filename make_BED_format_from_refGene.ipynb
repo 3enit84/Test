{
 "cells": [
  {
   "cell_type": "markdown",
   "metadata": {},
   "source": [
    "### Create Browser Extensible Data (bed) file for breast cancer genes"
   ]
  },
  {
   "cell_type": "code",
   "execution_count": 6,
   "metadata": {
    "scrolled": false
   },
   "outputs": [],
   "source": [
    "\n",
    "from csv import reader\n",
    "\n",
    "file = open('breast_cancer_gene_list.csv','r')\n",
    "glst = []#list of genes of interest\n",
    "for rec in reader(file):\n",
    "    glst += [rec[0]]\n",
    "\n",
    "file = open('../../references/refGene.txt','r')\n",
    "newfile = open('brstCa.bed','w')\n",
    "reflst = []#list of reference genes\n",
    "dup_lst = []#list for checking for duplicates\n",
    "for rec in reader(file, delimiter='\\t'):\n",
    "    if rec[12] in glst and rec[12] not in dup_lst:\n",
    "        chrom = rec[2]\n",
    "        if '_' in rec[2]:#remove additional description from chromosome i.e. chr6_GL000254v2_alt\n",
    "            chrom = str.split(rec[2],'_')[0]\n",
    "        newfile.write(chrom+'\\t'+rec[4]+'\\t'+rec[5]+'\\t'+rec[12]+'\\n')\n",
    "        dup_lst += [rec[12]]\n",
    "newfile.close()    \n"
   ]
  },
  {
   "cell_type": "markdown",
   "metadata": {},
   "source": [
    "### Sort bed file"
   ]
  },
  {
   "cell_type": "code",
   "execution_count": 7,
   "metadata": {},
   "outputs": [],
   "source": [
    "!sort -k 1.4,1n -k 2,2n -k 3,3n brstCa.bed > brstCa_srtd.bed"
   ]
  }
 ],
 "metadata": {
  "kernelspec": {
   "display_name": "Python 3",
   "language": "python",
   "name": "python3"
  },
  "language_info": {
   "codemirror_mode": {
    "name": "ipython",
    "version": 3
   },
   "file_extension": ".py",
   "mimetype": "text/x-python",
   "name": "python",
   "nbconvert_exporter": "python",
   "pygments_lexer": "ipython3",
   "version": "3.6.8"
  }
 },
 "nbformat": 4,
 "nbformat_minor": 2
}
