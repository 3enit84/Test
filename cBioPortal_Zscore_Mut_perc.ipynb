{
 "cells": [
  {
   "cell_type": "markdown",
   "metadata": {},
   "source": [
    "#### Count percentage of significant Z-scores per gene"
   ]
  },
  {
   "cell_type": "code",
   "execution_count": 11,
   "metadata": {},
   "outputs": [],
   "source": [
    "import os, glob\n",
    "newfile = open('PC_Z_perc_cntd.tsv', 'w')\n",
    "FileLst = []\n",
    "newfile.write('Gene')\n",
    "for filename in glob.glob(\"Prostate_Zscore*\"):\n",
    "    FileLst = FileLst + [open(filename, \"r\")]#open all Zscore files  \n",
    "    newfile.write('\\t'+filename[:-4])#make a title\n",
    "newfile.write('\\n')\n",
    "last_line = list(FileLst[0])[-1]#detect the last line in the file\n",
    "for file in FileLst:\n",
    "    for i in range(2):#skip first 2 lines in each file\n",
    "        line = file.readline()\n",
    "while line[:6] != last_line[:6]:#loop up to the last line in the file\n",
    "    check = 0\n",
    "    for file in FileLst:\n",
    "        for line in file:#read one line from each file\n",
    "            Zcnt = 0\n",
    "            rec = str.split(line,'\\t')\n",
    "            if check == 0:\n",
    "                newfile.write(rec[0])#write gene symbol only once\n",
    "                check = 1\n",
    "            for i in range(1,len(rec)):#first entry is a gene symbol\n",
    "                if str.strip(rec[i]) != 'NA':\n",
    "                    if float(str.strip(rec[i])) > 1.96 or float(str.strip(rec[i])) < -1.96:\n",
    "                        Zcnt += 1\n",
    "            newfile.write('\\t'+str(Zcnt*100.0/(len(rec)-1)))\n",
    "            break #read only one line\n",
    "    newfile.write('\\n')\n",
    "newfile.close()"
   ]
  },
  {
   "cell_type": "markdown",
   "metadata": {},
   "source": [
    "#### Count percentage of mutations per gene"
   ]
  },
  {
   "cell_type": "code",
   "execution_count": 13,
   "metadata": {},
   "outputs": [],
   "source": [
    "import os, glob\n",
    "newfile = open('PC_mut_perc_cntd.tsv', 'w')\n",
    "FileLst = []\n",
    "newfile.write('Gene')\n",
    "for filename in glob.glob(\"Prostate_mutations*\"):\n",
    "    FileLst = FileLst + [open(filename, \"r\")]#open all Zscore files  \n",
    "    newfile.write('\\t'+filename[:-4])#make a title\n",
    "newfile.write('\\n')\n",
    "last_line = list(FileLst[0])[-1]#detect the last line in the file\n",
    "for file in FileLst:\n",
    "    for i in range(2):#skip first 2 lines in each file\n",
    "        line = file.readline()\n",
    "while line[:6] != last_line[:6]:#loop up to the last line in the file\n",
    "    check = 0\n",
    "    for file in FileLst:\n",
    "        for line in file:\n",
    "            Mcnt = 0\n",
    "            rec = str.split(line,'\\t')\n",
    "            if check == 0:\n",
    "                newfile.write(rec[0])#write gene symbol only once\n",
    "                check = 1\n",
    "            for i in range(1,len(rec)):#first entry is a gene symbol\n",
    "                if str.strip(rec[i]) != 'NA':\n",
    "                    Mcnt += 1\n",
    "            newfile.write('\\t'+str(Mcnt*100.0/(len(rec)-1)))\n",
    "            break #read only one line\n",
    "    newfile.write('\\n')\n",
    "newfile.close() "
   ]
  }
 ],
 "metadata": {
  "kernelspec": {
   "display_name": "Python 3",
   "language": "python",
   "name": "python3"
  },
  "language_info": {
   "codemirror_mode": {
    "name": "ipython",
    "version": 3
   },
   "file_extension": ".py",
   "mimetype": "text/x-python",
   "name": "python",
   "nbconvert_exporter": "python",
   "pygments_lexer": "ipython3",
   "version": "3.6.9"
  }
 },
 "nbformat": 4,
 "nbformat_minor": 2
}
